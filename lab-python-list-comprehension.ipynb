{
 "cells": [
  {
   "cell_type": "markdown",
   "id": "25d7736c-ba17-4aff-b6bb-66eba20fbf4e",
   "metadata": {},
   "source": [
    "# Lab | List, Dict and Set Comprehension"
   ]
  },
  {
   "cell_type": "markdown",
   "id": "7dd3cbde-675a-4b81-92c3-f728846dbe06",
   "metadata": {},
   "source": [
    "## Exercise: Managing Customer Orders Optimized with Comprehension"
   ]
  },
  {
   "cell_type": "markdown",
   "id": "5d500160-2fb7-4777-b5e4-09d45ebaf328",
   "metadata": {},
   "source": [
    "In the previous exercise, you developed a program to manage customer orders and inventory. Now, let's take it a step further and incorporate comprehension into your code.\n",
    "\n",
    "Follow the steps below to complete the exercise:\n",
    "\n",
    "1. Review your code from the previous exercise and identify areas where you can apply comprehension to simplify and streamline your code. \n",
    "\n",
    "    - *Hint: Apply it to initialize inventory, updating the inventory and printing the updated inventory.*\n",
    "    \n",
    "    - For example, in initializing the inventory, we could have:\n",
    "    \n",
    "        ```python\n",
    "        def initialize_inventory(products):\n",
    "            inventory = {product: int(input(f\"Enter the quantity of {product}s available: \")) for product in products}\n",
    "            return inventory\n",
    "\n",
    "        ```\n",
    "<br>\n",
    "    \n",
    "    \n",
    "2. Modify the function get_customer_orders so it prompts the user to enter the number of customer orders and gathers the product names using a loop and user input. Use comprehension.\n",
    "\n",
    "3. Add a new function to calculate the total price of the customer order. For each product in customer_orders, prompt the user to enter the price of that product. Use comprehension to calculate the total price. Note: assume that the user can only have 1 unit of each product.\n",
    "\n",
    "4. Modify the update_inventory function to remove the product from the inventory if its quantity becomes zero after fulfilling the customer orders. Use comprehension to filter out the products with a quantity of zero from the inventory.\n",
    "\n",
    "5. Print the total price of the customer order.\n",
    "\n",
    "Your code should produce output similar to the following:\n",
    "\n",
    "```python\n",
    "Enter the quantity of t-shirts available:  5\n",
    "Enter the quantity of mugs available:  4\n",
    "Enter the quantity of hats available:  3\n",
    "Enter the quantity of books available:  2\n",
    "Enter the quantity of keychains available:  1\n",
    "Enter the number of customer orders:  2\n",
    "Enter the name of a product that a customer wants to order:  hat\n",
    "Enter the name of a product that a customer wants to order:  keychain\n",
    "\n",
    "Order Statistics:\n",
    "Total Products Ordered: 2\n",
    "Percentage of Unique Products Ordered: 40.0\n",
    "\n",
    "Updated Inventory:\n",
    "t-shirt: 5\n",
    "mug: 4\n",
    "hat: 2\n",
    "book: 2\n",
    "Enter the price of keychain:  5\n",
    "Enter the price of hat:  10\n",
    "Total Price: 15.0\n",
    "\n",
    "```\n"
   ]
  },
  {
   "cell_type": "code",
   "execution_count": 11,
   "id": "b01a3490",
   "metadata": {},
   "outputs": [],
   "source": [
    "# Lista de productos disponibles\n",
    "products = [\"t-shirt\", \"mug\", \"hat\", \"book\", \"keychain\"]"
   ]
  },
  {
   "cell_type": "code",
   "execution_count": 12,
   "id": "9591c38d",
   "metadata": {},
   "outputs": [],
   "source": [
    "# Paso 1: Definir la función para inicializar el inventario con comprehensions\n",
    "def inicializar_inventario(productos):\n",
    "    inventario = {producto: int(input(f\"Introduce la cantidad disponible para {producto}: \")) for producto in productos}\n",
    "    return inventario"
   ]
  },
  {
   "cell_type": "code",
   "execution_count": 13,
   "id": "f9db99d1",
   "metadata": {},
   "outputs": [],
   "source": [
    "# Paso 2: Modificar la función para obtener los pedidos de los clientes, usando comprehension\n",
    "def obtener_pedidos_clientes():\n",
    "    num_pedidos = int(input(\"Introduce el número de pedidos del cliente: \"))\n",
    "    pedidos_clientes = {input(f\"Introduce el nombre de un producto que quieres ordenar (elige de t-shirt, mug, hat, book, keychain): \").strip().lower() for _ in range(num_pedidos)}\n",
    "    return pedidos_clientes"
   ]
  },
  {
   "cell_type": "code",
   "execution_count": 14,
   "id": "dc1c76a1",
   "metadata": {},
   "outputs": [],
   "source": [
    "# Paso 3: Añadir una función para calcular el precio total del pedido del cliente\n",
    "def calcular_precio_total(pedidos_clientes):\n",
    "    precios = {producto: float(input(f\"Introduce el precio de {producto}: \")) for producto in pedidos_clientes}\n",
    "    total_precio = sum(precios[producto] for producto in pedidos_clientes)\n",
    "    return total_precio"
   ]
  },
  {
   "cell_type": "code",
   "execution_count": 15,
   "id": "422e5bf2",
   "metadata": {},
   "outputs": [],
   "source": [
    "# Paso 4: Modificar la función para actualizar el inventario y eliminar productos con cantidad cero, usando comprehension\n",
    "def actualizar_inventario(pedidos_clientes, inventario):\n",
    "    inventario = {producto: cantidad - 1 if producto in pedidos_clientes else cantidad for producto, cantidad in inventario.items()}\n",
    "    inventario = {producto: cantidad for producto, cantidad in inventario.items() if cantidad > 0}\n",
    "    return inventario"
   ]
  },
  {
   "cell_type": "code",
   "execution_count": 16,
   "id": "0da19abb",
   "metadata": {},
   "outputs": [],
   "source": [
    "# Paso 4: Definir la función para calcular las estadísticas del pedido\n",
    "def calcular_estadísticas_pedido(pedidos_clientes, productos):\n",
    "    total_productos_pedidos = len(pedidos_clientes)\n",
    "    total_productos_disponibles = len(productos)\n",
    "    porcentaje_pedidos = (total_productos_pedidos / total_productos_disponibles) * 100 if total_productos_disponibles > 0 else 0\n",
    "    return (total_productos_pedidos, porcentaje_pedidos)\n"
   ]
  },
  {
   "cell_type": "code",
   "execution_count": 17,
   "id": "d2938d9f",
   "metadata": {},
   "outputs": [],
   "source": [
    "# Paso 5: Definir la función para imprimir las estadísticas del pedido\n",
    "def imprimir_estadísticas_pedido(estadísticas_pedido):\n",
    "    total_productos_pedidos, porcentaje_pedidos = estadísticas_pedido\n",
    "    print(\n",
    "        f\"Order Statistics:\\n\"\n",
    "        f\"Total Products Ordered: {total_productos_pedidos}\\n\"\n",
    "        f\"Percentage of Unique Products Ordered: {porcentaje_pedidos:.1f}\"\n",
    "    )"
   ]
  },
  {
   "cell_type": "code",
   "execution_count": 18,
   "id": "15729edf",
   "metadata": {},
   "outputs": [],
   "source": [
    "# Paso 6: Definir la función para imprimir el inventario actualizado\n",
    "def imprimir_inventario_actualizado(inventario):\n",
    "    print(\"Updated Inventory:\")\n",
    "    for producto, cantidad in inventario.items():\n",
    "        print(f\"{producto}: {cantidad}\")"
   ]
  },
  {
   "cell_type": "code",
   "execution_count": 19,
   "id": "66218ec6",
   "metadata": {},
   "outputs": [],
   "source": [
    "# Paso 7: Llamar a las funciones en la secuencia apropiada y agregar impresión del precio total\n",
    "def main():\n",
    "    inventario = inicializar_inventario(products)\n",
    "    pedidos_clientes = obtener_pedidos_clientes()\n",
    "    inventario_actualizado = actualizar_inventario(pedidos_clientes, inventario)\n",
    "    estadísticas_pedido = calcular_estadísticas_pedido(pedidos_clientes, products)\n",
    "    imprimir_estadísticas_pedido(estadísticas_pedido)\n",
    "    imprimir_inventario_actualizado(inventario_actualizado)\n",
    "    total_precio = calcular_precio_total(pedidos_clientes)\n",
    "    print(f\"Total Price: {total_precio:.1f}\")"
   ]
  },
  {
   "cell_type": "code",
   "execution_count": 20,
   "id": "a52b4462",
   "metadata": {},
   "outputs": [
    {
     "name": "stdout",
     "output_type": "stream",
     "text": [
      "Order Statistics:\n",
      "Total Products Ordered: 2\n",
      "Percentage of Unique Products Ordered: 40.0\n",
      "Updated Inventory:\n",
      "t-shirt: 10\n",
      "mug: 10\n",
      "hat: 9\n",
      "book: 9\n",
      "keychain: 10\n",
      "Total Price: 55.0\n"
     ]
    }
   ],
   "source": [
    "# Ejecutar el programa\n",
    "if __name__ == \"__main__\":\n",
    "    main()"
   ]
  }
 ],
 "metadata": {
  "kernelspec": {
   "display_name": "Python 3 (ipykernel)",
   "language": "python",
   "name": "python3"
  },
  "language_info": {
   "codemirror_mode": {
    "name": "ipython",
    "version": 3
   },
   "file_extension": ".py",
   "mimetype": "text/x-python",
   "name": "python",
   "nbconvert_exporter": "python",
   "pygments_lexer": "ipython3",
   "version": "3.12.4"
  }
 },
 "nbformat": 4,
 "nbformat_minor": 5
}
